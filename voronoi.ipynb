{
  "nbformat": 4,
  "nbformat_minor": 0,
  "metadata": {
    "colab": {
      "name": "voronoi.ipynb",
      "provenance": [],
      "collapsed_sections": [],
      "authorship_tag": "ABX9TyN6u8ZdDYEfwOa95WHSSLcU",
      "include_colab_link": true
    },
    "kernelspec": {
      "display_name": "Python 3",
      "name": "python3"
    },
    "language_info": {
      "name": "python"
    }
  },
  "cells": [
    {
      "cell_type": "markdown",
      "metadata": {
        "id": "view-in-github",
        "colab_type": "text"
      },
      "source": [
        "<a href=\"https://colab.research.google.com/github/wzrd13/voronoi/blob/main/voronoi.ipynb\" target=\"_parent\"><img src=\"https://colab.research.google.com/assets/colab-badge.svg\" alt=\"Open In Colab\"/></a>"
      ]
    },
    {
      "cell_type": "code",
      "metadata": {
        "id": "1ImC4CB3ekVx"
      },
      "source": [
        "from math import sqrt\n",
        "import matplotlib.pyplot as plt\n",
        "from matplotlib.patches import Polygon\n",
        "import collections\n",
        "import numpy as np\n",
        "from itertools import filterfalse\n",
        "from matplotlib.path import Path\n",
        "import math"
      ],
      "execution_count": 1,
      "outputs": []
    },
    {
      "cell_type": "code",
      "metadata": {
        "id": "6zAmpSO6eqYy"
      },
      "source": [
        "class Point:\n",
        "    def __init__(self, x, y):\n",
        "        self.x = x\n",
        "        self.y = y\n",
        "\n",
        "    def __eq__(self, other):\n",
        "        if isinstance(other, Point):\n",
        "            return self.x == other.x and self.y == other.y\n",
        "        return False\n",
        "\n",
        "    # def __sub__(self, other):\n",
        "        # return (self.x - other.x, self.y - other.y, self.z - other.z)\n",
        "\n",
        "    def __repr__(self):\n",
        "        return repr((self.x, self.y))\n",
        "\n",
        "    def __hash__(self):\n",
        "        return hash((self.x, self.y))\n",
        "\n",
        "    def inTriagCercumC(self, t):\n",
        "        if isinstance(t, Triangle):\n",
        "            cx, cy = t.ccenter[0:2]\n",
        "            return (self.x - cx)**2 + (self.y - cy)**2 < t.cradius**2\n",
        "\n",
        "    def getCoords(self):\n",
        "        return np.array([self.x, self.y])\n",
        "\n",
        "    def draw(self):\n",
        "        plt.plot(self.x, self.y, marker='o', markersize=3, color='red')"
      ],
      "execution_count": 2,
      "outputs": []
    },
    {
      "cell_type": "code",
      "metadata": {
        "id": "zVGNBY5jevkO"
      },
      "source": [
        "class Triangle:\n",
        "    def __init__(self, a_point, b_point, c_point):\n",
        "        self.a = a_point\n",
        "        self.b = b_point\n",
        "        self.c = c_point\n",
        "        \n",
        "        self.neighbors = {\n",
        "            (self.a, self.b): None,\n",
        "            (self.b, self.c): None,\n",
        "            (self.c, self.a): None\n",
        "        }\n",
        "\n",
        "        self.cradius, self.ccenter = self.cercumc()\n",
        "\n",
        "    def __repr__(self):\n",
        "        return repr(f'{self.a}, {self.b}, {self.c}')\n",
        "\n",
        "    def cercumc(self):\n",
        "        # 2D implemetation\n",
        "        d = 2*(self.a.x*(self.b.y-self.c.y)\n",
        "                + self.b.x*(self.c.y-self.a.y)\n",
        "                + self.c.x*(self.a.y-self.b.y))\n",
        "\n",
        "        axy = self.a.x**2 + self.a.y**2\n",
        "        bxy = self.b.x**2 + self.b.y**2\n",
        "        cxy = self.c.x**2 + self.c.y**2\n",
        "\n",
        "        centerx = (axy*(self.b.y - self.c.y)\n",
        "        + bxy*(self.c.y - self.a.y)\n",
        "        + cxy*(self.a.y - self.b.y))/d\n",
        "\n",
        "        centery = (axy*(self.c.x - self.b.x)\n",
        "        + bxy*(self.a.x - self.c.x)\n",
        "        + cxy*(self.b.x - self.a.x))/d\n",
        "\n",
        "        cradius = sqrt((centerx-self.a.x)**2 + (centery-self.a.y)**2)\n",
        "        ccenter = (centerx, centery)\n",
        "\n",
        "        # a = np.array(self.a - self.c)\n",
        "        # b = np.array(self.b - self.c)\n",
        "        # ap2 = np.inner(a,a)\n",
        "        # bp2 = np.inner(b,b)\n",
        "        # crossab = np.cross(a,b)\n",
        "        # crossabp2 = np.inner(crossab, crossab)\n",
        "\n",
        "        # ccenter = (np.cross(ap2*b - bp2*a, crossab)\n",
        "        #         / (2 * crossabp2) + self.c.getCoords())\n",
        "        # cradius = (sqrt(ap2 * bp2 * np.inner(a-b,a-b))\n",
        "        #         / (2*sqrt(crossabp2)))\n",
        "        return(cradius, ccenter)\n",
        "\n",
        "\n",
        "    def getCoords(self):\n",
        "        return np.array([\n",
        "            self.a.getCoords(),\n",
        "            self.b.getCoords(),\n",
        "            self.c.getCoords()\n",
        "        ])\n",
        "\n",
        "    def getPoints(self):\n",
        "        return [self.a, self.b, self.c]\n",
        "\n",
        "    def isPoint(self, point):\n",
        "        for p in self.getPoints():\n",
        "            if p == point:\n",
        "                return True\n",
        "        return False\n",
        "\n",
        "    def getEdges(self):\n",
        "        return [\n",
        "                {self.a, self.b},\n",
        "                {self.b, self.c},\n",
        "                {self.c, self.a}\n",
        "        ]\n",
        "    \n",
        "    def shareSide(self, t):\n",
        "        if isinstance(t, Triangle):\n",
        "            for edge in self.getEdges():\n",
        "                if edge in t.getEdges():\n",
        "                    return True\n",
        "        return False\n",
        "\n",
        "    def isNeighbor(self, t):\n",
        "        pass\n",
        "\n",
        "    def draw(self):\n",
        "        t = plt.Polygon(self.getCoords()[:,0:2], fill=False)\n",
        "        for p in self.getPoints():\n",
        "            p.draw()\n",
        "        # c = plt.Circle(list(self.ccenter[0:2]), self.cradius, fill=False)\n",
        "        plt.gca().add_patch(t)\n",
        "        # plt.gca().add_patch(c)"
      ],
      "execution_count": 3,
      "outputs": []
    },
    {
      "cell_type": "code",
      "metadata": {
        "id": "dUbg-NG-viex"
      },
      "source": [
        "class Cell:\n",
        "    def __init__(self, points, center):\n",
        "        self.points = points\n",
        "        self.center = center\n",
        "        angle = lambda p: (math.atan2(p.x - center.x, p.y - center.y))\n",
        "        self.points.sort(key=angle)\n",
        "\n",
        "    def draw(self):\n",
        "        points_array = np.array(list(map(lambda x: x.getCoords(), self.points)))\n",
        "\n",
        "        c = plt.Polygon(points_array, fill=False)\n",
        "        plt.gca().add_patch(c)\n",
        "\n",
        "        # plt.figure()\n",
        "        self.center.draw()\n",
        "        \n",
        "        # plt.autoscale()\n",
        "        # plt.show()"
      ],
      "execution_count": 4,
      "outputs": []
    },
    {
      "cell_type": "code",
      "metadata": {
        "id": "0vI6YXLwey0h",
        "colab": {
          "base_uri": "https://localhost:8080/",
          "height": 338
        },
        "outputId": "74252f1d-5de5-4cb4-b734-8de1705e52bf"
      },
      "source": [
        "class Voronoi:\n",
        "    def __init__(self, points):\n",
        "        # Super Triangle\n",
        "        self.supertr = self.superTriang(points)\n",
        "        # List that holds all triangles in delaunay\n",
        "        self.triang = [self.supertr]\n",
        "        # Reverse triang list\n",
        "        self.points = collections.defaultdict(list)\n",
        "\n",
        "        self.vor_cells = []\n",
        "\n",
        "        # Add supertr points to triangulation\n",
        "        for p in self.supertr.getPoints():\n",
        "            self.points[p].append(self.supertr)\n",
        "\n",
        "        # Add points one by one\n",
        "        for p in points:\n",
        "            self.addPoint(Point(p[0],p[1]))\n",
        "\n",
        "        # Remove triangles from supertr\n",
        "        for p in self.supertr.getPoints():\n",
        "            for t in self.points[p]:\n",
        "                try:\n",
        "                    self.triang.remove(t)\n",
        "                except:\n",
        "                    print(f'Triangle {t} does not exist')\n",
        "            del self.points[p]\n",
        "        \n",
        "        print(f\"number of points: {len(self.points)}\")\n",
        "        \n",
        "        for p, triangles in self.points.items():\n",
        "            # t_center_point = lambda t: Point(t.ccenter[0], t.ccenter[1])\n",
        "            cell_points = []\n",
        "            for t in triangles:\n",
        "                share = bool(set(t.getPoints()) & set(self.supertr.getPoints()))\n",
        "                if not share:\n",
        "                    cell_points.append(Point(t.ccenter[0], t.ccenter[1]))\n",
        "\n",
        "            # cell_points = list(map(t_center_point, triangles))\n",
        "            self.vor_cells.append(Cell(cell_points, p))\n",
        "        \n",
        "\n",
        "    def addPoint(self, point):\n",
        "        badT = []\n",
        "        for t in self.triang:\n",
        "            if point.inTriagCercumC(t):\n",
        "                badT.append(t)\n",
        "\n",
        "        # Find convex hull of badT\n",
        "        polygon = []\n",
        "        for t in badT:\n",
        "            for edge in t.getEdges():\n",
        "                if edge in polygon:\n",
        "                    polygon.remove(edge)\n",
        "                else:\n",
        "                    polygon.append(edge)\n",
        "\n",
        "        for t in badT:\n",
        "            self.triang.remove(t)\n",
        "\n",
        "            for p in t.getPoints():\n",
        "                self.points[p].remove(t)\n",
        "\n",
        "        for edge in polygon:\n",
        "            edge = list(edge)\n",
        "            t = Triangle(point, edge[0], edge[1])\n",
        "            self.triang.append(t)\n",
        "            for p in t.getPoints():\n",
        "                self.points[p].append(t)\n",
        "\n",
        "    def superTriang(self, points):\n",
        "        points = np.array(points)\n",
        "        xmax = np.amax(points[:,0])\n",
        "        ymax = np.amax(points[:,1])\n",
        "        xmin = np.amin(points[:,0])\n",
        "        ymin = np.amin(points[:,1])\n",
        "        return Triangle(\n",
        "            Point(2*xmin-xmax, ymin-1),\n",
        "            Point(2*xmax-xmin, ymin-1),\n",
        "            Point(xmax-(xmax-xmin)/2, 2*ymax)\n",
        "        )\n",
        "\n",
        "\n",
        "    def draw(self):\n",
        "        plt.figure()\n",
        "        # plt.grid(True, which='both')\n",
        "        # for c in self.vor_cells:\n",
        "        #     c.draw()\n",
        "\n",
        "        for t1 in self.triang:\n",
        "            for t2 in self.triang:\n",
        "                if t1.shareSide(t2):\n",
        "                    c1 = t1.ccenter\n",
        "                    c2 = t2.ccenter\n",
        "                    x = [c1[0], c2[0]]\n",
        "                    y = [c1[1], c2[1]]\n",
        "                    plt.plot(x, y)\n",
        "\n",
        "        for p in self.points.keys():\n",
        "                p.draw()\n",
        "            # t.draw()\n",
        "\n",
        "        # plt.autoscale()\n",
        "        plt.show()\n",
        "\n",
        "# points = np.random.randint(100, 200, size=(100, 2))\n",
        "# points = np.array([[0,0], [10,0], [10,10], [0,10]])\n",
        "# print(points)\n",
        "points = [[p1, p2] for p1 in range(4) for p2 in range(4)]\n",
        "\n",
        "vor = Voronoi(points)\n",
        "# print(vor.points)\n",
        "vor.draw()"
      ],
      "execution_count": 5,
      "outputs": [
        {
          "output_type": "stream",
          "name": "stdout",
          "text": [
            "Triangle '(2, 0), (-3, -1), (6, -1)' does not exist\n",
            "Triangle '(0, 3), (-3, -1), (1.5, 6)' does not exist\n",
            "Triangle '(3, 3), (1.5, 6), (6, -1)' does not exist\n",
            "number of points: 16\n"
          ]
        },
        {
          "output_type": "display_data",
          "data": {
            "image/png": "[encoded data removed]",
            "text/plain": [
              "<Figure size 432x288 with 1 Axes>"
            ]
          },
          "metadata": {
            "needs_background": "light"
          }
        }
      ]
    },
    {
      "cell_type": "code",
      "metadata": {
        "colab": {
          "base_uri": "https://localhost:8080/",
          "height": 374
        },
        "id": "a_mT8AXIe425",
        "outputId": "7f6a84a1-0430-4df1-b28f-9c927db02023"
      },
      "source": [
        "# t = Triangle(Point(0,0), Point(3,0), Point(1,4))\n",
        "t1 = Triangle(Point(10,2), Point(3,0), Point(1,4))\n",
        "p1 = Point(1, 1)\n",
        "p2 = Point(2, 1)\n",
        "p3 = Point(2, 0)\n",
        "p4 = Point(1, 0)\n",
        "c = Point(1.5, 0.5)\n",
        "\n",
        "# c = Cell([p1, p2, p3, p4], c)\n",
        "# c.draw()\n",
        "\n",
        "# print(t.cradius)\n",
        "# print(t.ccenter)\n",
        "\n",
        "# print(\"in triag t\")\n",
        "# print(p1.inTriagCercumC(t))\n",
        "# print(p2.inTriagCercumC(t))\n",
        "# print(\"in triag T1\")\n",
        "# print(p1.inTriagCercumC(t1))\n",
        "# print(p2.inTriagCercumC(t1))\n",
        "\n",
        "\n",
        "\n",
        "points = np.random.randint(100, 200, size=(100, 2))\n",
        "# points = np.array([[0,0], [10,0], [10,10], [0,10]])\n",
        "# print(points)\n",
        "# points = [[p1, p2] for p1 in range(4) for p2 in range(4)]\n",
        "\n",
        "vor = Voronoi(points)\n",
        "# print(vor.points)\n",
        "vor.draw()\n",
        "\n",
        "# plt.figure()\n",
        "# plt.grid(True, which='both')\n",
        "# t.draw()\n",
        "# t1.draw()\n",
        "# plt.axhline(y=0, color='k')\n",
        "# p1.draw()\n",
        "# p2.draw()\n",
        "# plt.axvline(x=0, color='k')"
      ],
      "execution_count": 6,
      "outputs": [
        {
          "output_type": "stream",
          "name": "stderr",
          "text": [
            "/usr/local/lib/python3.7/dist-packages/ipykernel_launcher.py:30: RuntimeWarning: invalid value encountered in long_scalars\n",
            "/usr/local/lib/python3.7/dist-packages/ipykernel_launcher.py:34: RuntimeWarning: invalid value encountered in long_scalars\n"
          ]
        },
        {
          "output_type": "stream",
          "name": "stdout",
          "text": [
            "Triangle '(165, 100), (1, 99), (298, 99)' does not exist\n",
            "Triangle '(101, 191), (149.5, 396), (1, 99)' does not exist\n",
            "Triangle '(197, 185), (149.5, 396), (298, 99)' does not exist\n",
            "number of points: 99\n"
          ]
        },
        {
          "output_type": "display_data",
          "data": {
            "image/png": "[encoded data removed]",
            "text/plain": [
              "<Figure size 432x288 with 1 Axes>"
            ]
          },
          "metadata": {
            "needs_background": "light"
          }
        }
      ]
    }
  ]
}